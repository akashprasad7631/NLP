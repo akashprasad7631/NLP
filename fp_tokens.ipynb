{
 "cells": [
  {
   "cell_type": "code",
   "execution_count": 1,
   "id": "79241127",
   "metadata": {},
   "outputs": [
    {
     "name": "stderr",
     "output_type": "stream",
     "text": [
      "[nltk_data] Downloading package punkt to\n",
      "[nltk_data]     /Users/akashprasad763gmail.com/nltk_data...\n",
      "[nltk_data]   Package punkt is already up-to-date!\n",
      "[nltk_data] Downloading package stopwords to\n",
      "[nltk_data]     /Users/akashprasad763gmail.com/nltk_data...\n",
      "[nltk_data]   Package stopwords is already up-to-date!\n",
      "[nltk_data] Downloading package wordnet to\n",
      "[nltk_data]     /Users/akashprasad763gmail.com/nltk_data...\n",
      "[nltk_data]   Package wordnet is already up-to-date!\n",
      "[nltk_data] Downloading package omw-1.4 to\n",
      "[nltk_data]     /Users/akashprasad763gmail.com/nltk_data...\n",
      "[nltk_data]   Package omw-1.4 is already up-to-date!\n"
     ]
    },
    {
     "data": {
      "text/plain": [
       "True"
      ]
     },
     "execution_count": 1,
     "metadata": {},
     "output_type": "execute_result"
    }
   ],
   "source": [
    "import nltk\n",
    "nltk.download('punkt')\n",
    "nltk.download('stopwords')\n",
    "nltk.download('wordnet')\n",
    "nltk.download('omw-1.4')"
   ]
  },
  {
   "cell_type": "code",
   "execution_count": 2,
   "id": "234ad5f3",
   "metadata": {},
   "outputs": [],
   "source": [
    "filename = 'FP.txt'\n",
    "file = open(filename,'rt')\n",
    "text = file.read()\n",
    "file.close()"
   ]
  },
  {
   "cell_type": "code",
   "execution_count": 3,
   "id": "4388967b",
   "metadata": {},
   "outputs": [
    {
     "name": "stdout",
     "output_type": "stream",
     "text": [
      "﻿This is financial Report of 2019-2020\n",
      "\n",
      "\n",
      "\n",
      "The share of large borrowers in Indian banks’ total loan portfolios stood at 53% as on March 2019\n",
      "\n",
      "The gross non-performing assets (NPAs) as a percentage of total loans stood at 9.3% as on March 2019\n",
      "\n",
      "Mumbai: Indian banks continue to see an improvement in asset quality with bad loans as a percentage of total loans expected to fall to 9% by March 2020, according to the Financial Stability Report released by the Reserve Bank of India (RBI) on Thursday.\n",
      "\n",
      "The gross non-performing assets (NPAs) as a percentage of total loans stood at 9.3% as on March 2019.\n",
      "\n",
      "According to the bi-annual report, stress tests done on public sector banks (PSBs) revealed that gross non-performing ratio may decline to 12% by March 2020 from 12.6% in March 2019. Private sector banks too could see a fall in gross NPAs to 3.2% from 3.7% during the same period.\n",
      "\n",
      "These stress tests for credit risk were done to test the resilience of Indian banks against macroeconomic shocks. It encompassed a baseline and two (medium and severe) adverse macroeconomic risk scenarios.\n",
      "\n",
      "Under the baseline scenario, the capital adequacy for banks is expected to come down to 12.9% in March 2020 from 14% in March 2019.\n",
      "\n",
      "\n",
      "\n",
      "“As many as five SCBs may have CRAR below the minimum regulatory level of 9% by March 2020 without taking into account any further planned recapitalisation by the government. If macroeconomic conditions deteriorate, nine SCBs may record CRAR below 9% under a severe macro-stress scenario,\" said the report.\n",
      "\n",
      "The stress test on banks’ credit concentration showed that eight banks, accounting for 14.6% of the total assets, could be affected if top three individual borrowers failed to repay under an extreme scenario. The share of large borrowers in banks’ total loan portfolios and their share in gross NPAs stood at 53% and 82.2%, respectively as on March 2019.\n",
      "\n",
      "“Efforts to improve the balance sheets of banks should therefor continue. Among others, there should be special focus on governance reforms in banks. As far as PSBs are concerned, the proof of the pudding lies in the PSBs’ ability to attract private capital through market discipline rather than being overly dependent on the government for capital,\" said Shaktikanta Das in a foreword to the report.\n",
      "\n",
      "\n",
      "A recent Crisil report also showed a significant reduction in system-wide NPAs to 8% by March 2020, driven by resolution of large-ticket stressed assets and slowing pace of fresh accretion to NPAs. Public sector banks, which account for over 80% of the NPAs in the system, should see their gross NPAs climb down to 10.6% by March 2020 from a peak of 14.6% in March 2018, the report said.\n",
      "\n",
      "\n",
      "FPI surcharge removal, stimulus measures likely to boost markets: Experts\n",
      "2 min read . Updated: 25 Aug 2019, 05:41 PM IST\n",
      "PTI\n",
      "Finance Minister Nirmala Sitharaman on Friday announced rollback of enhanced surcharge on foreign portfolio investors levied in the Budget\n",
      "The Centre also announced a raft of measures to revive growth momentum, including exempting startups from 'angel tax'\n",
      "\n",
      "\n",
      "New Delhi: The stock markets may see a relief rally this week after the government removed enhanced surcharge on FPIs and also unveiled various measures to jumpstart growth, analysts said.\n",
      "\n",
      "Giving in to the demands of overseas investors, Finance Minister Nirmala Sitharaman on Friday announced rollback of enhanced surcharge on foreign portfolio investors levied in the Budget.\n",
      "\n",
      "The Budget proposal to hike surcharge on FPIs had spooked foreign investors, who withdrew more than $3.4 billion ( ₹24,500 crore) from domestic equities in July and August. The massive capital outflows also put pressure on the rupee, which slumped to 72-level against the US dollar last week.\n",
      "\n",
      "\"Withdrawal of enhanced surcharge on FPI is a big positive for Indian markets as it could reverse the outflows seen since post Budget. It should also help INR appreciation. Overall, a good sentiment booster for the Indian economy,\" said Rusmik Oza, Head of Fundamental Research, Kotak Securities.\n",
      "\n",
      "The Centre also announced a raft of measures to revive growth momentum, including exempting startups from 'angel tax', a package to address distress in the auto sector and upfront infusion of ₹70,000 crore into public sector banks.\n",
      "\n",
      "\"Withdrawal of the surcharge on FPIs is a shot in the arm for the sagging market. One can now expect reversal of the FPI selling. The market is likely to look up from now on,\" VK Vijayakumar, Chief Investment Strategist, Geojit Financial Services said.\n",
      "\n",
      "\"However, sustained rally in the market will happen only when we have visibility on good earnings growth and reversal of the slowdown underway in the economy. This requires more reforms,\" Vijayakumar added.\n",
      "\n",
      "In a bid to address slowdown in the auto sector, the government lifted ban on purchase of vehicles by government departments, and allowed additional 15 per cent depreciation on vehicles acquired from now till March 2020.\n",
      "\n",
      "The revision of one-time registration fees has also been deferred till June 2020.\n",
      "\n",
      "These steps are likely to prop up the automobile sector and revive demand, said Ashwin Patil, Senior Research Analyst (Auto Sector) at LKP Securities.\n",
      "\n",
      "\"These are just the kind of measures which were required to boost the economy. In the immediate term, we can expect the markets to bounce back on Monday with a gap up opening, and continue the rally for a few sessions to come,\" said Amit Gupta, Co-Founder and CEO of TradingBells.\n",
      "\n",
      "Over the last week, the BSE Sensex lost 649.17 points, or 1.74 per cent. On Friday, the benchmark rebounded 228 points ahead of the finance minister's address.\n"
     ]
    }
   ],
   "source": [
    "print(text)"
   ]
  },
  {
   "cell_type": "code",
   "execution_count": 4,
   "id": "ecdced25",
   "metadata": {},
   "outputs": [
    {
     "name": "stdout",
     "output_type": "stream",
     "text": [
      "The gross non-performing assets (NPAs) as a percentage of total loans stood at 9.3% as on March 2019.\n"
     ]
    }
   ],
   "source": [
    "from nltk import sent_tokenize\n",
    "sentences = sent_tokenize(text)\n",
    "print(sentences[1])"
   ]
  },
  {
   "cell_type": "code",
   "execution_count": 5,
   "id": "961dffd0",
   "metadata": {},
   "outputs": [
    {
     "name": "stdout",
     "output_type": "stream",
     "text": [
      "['\\ufeffThis', 'is', 'financial', 'Report', 'of', '2019-2020', 'The', 'share', 'of', 'large', 'borrowers', 'in', 'Indian', 'banks', '’', 'total', 'loan', 'portfolios', 'stood', 'at', '53', '%', 'as', 'on', 'March', '2019', 'The', 'gross', 'non-performing', 'assets', '(', 'NPAs', ')', 'as', 'a', 'percentage', 'of', 'total', 'loans', 'stood', 'at', '9.3', '%', 'as', 'on', 'March', '2019', 'Mumbai', ':', 'Indian', 'banks', 'continue', 'to', 'see', 'an', 'improvement', 'in', 'asset', 'quality', 'with', 'bad', 'loans', 'as', 'a', 'percentage', 'of', 'total', 'loans', 'expected', 'to', 'fall', 'to', '9', '%', 'by', 'March', '2020', ',', 'according', 'to', 'the', 'Financial', 'Stability', 'Report', 'released', 'by', 'the', 'Reserve', 'Bank', 'of', 'India', '(', 'RBI', ')', 'on', 'Thursday', '.', 'The', 'gross', 'non-performing']\n"
     ]
    }
   ],
   "source": [
    "from nltk import word_tokenize\n",
    "tokens = word_tokenize(text)\n",
    "print(tokens[:100])"
   ]
  },
  {
   "cell_type": "code",
   "execution_count": 6,
   "id": "0c94bd8c",
   "metadata": {},
   "outputs": [
    {
     "name": "stdout",
     "output_type": "stream",
     "text": [
      "['is', 'financial', 'Report', 'of', 'The', 'share', 'of', 'large', 'borrowers', 'in', 'Indian', 'banks', 'total', 'loan', 'portfolios', 'stood', 'at', 'as', 'on', 'March', 'The', 'gross', 'assets', 'NPAs', 'as', 'a', 'percentage', 'of', 'total', 'loans', 'stood', 'at', 'as', 'on', 'March', 'Mumbai', 'Indian', 'banks', 'continue', 'to', 'see', 'an', 'improvement', 'in', 'asset', 'quality', 'with', 'bad', 'loans', 'as', 'a', 'percentage', 'of', 'total', 'loans', 'expected', 'to', 'fall', 'to', 'by', 'March', 'according', 'to', 'the', 'Financial', 'Stability', 'Report', 'released', 'by', 'the', 'Reserve', 'Bank', 'of', 'India', 'RBI', 'on', 'Thursday', 'The', 'gross', 'assets', 'NPAs', 'as', 'a', 'percentage', 'of', 'total', 'loans', 'stood', 'at', 'as', 'on', 'March', 'According', 'to', 'the', 'report', 'stress', 'tests', 'done', 'on']\n"
     ]
    }
   ],
   "source": [
    "words = [word for word in tokens if word.isalpha() ]\n",
    "print(words[:100])"
   ]
  },
  {
   "cell_type": "code",
   "execution_count": 7,
   "id": "7bf2c05f",
   "metadata": {},
   "outputs": [
    {
     "name": "stdout",
     "output_type": "stream",
     "text": [
      "['i', 'me', 'my', 'myself', 'we', 'our', 'ours', 'ourselves', 'you', \"you're\", \"you've\", \"you'll\", \"you'd\", 'your', 'yours', 'yourself', 'yourselves', 'he', 'him', 'his', 'himself', 'she', \"she's\", 'her', 'hers', 'herself', 'it', \"it's\", 'its', 'itself', 'they', 'them', 'their', 'theirs', 'themselves', 'what', 'which', 'who', 'whom', 'this', 'that', \"that'll\", 'these', 'those', 'am', 'is', 'are', 'was', 'were', 'be', 'been', 'being', 'have', 'has', 'had', 'having', 'do', 'does', 'did', 'doing', 'a', 'an', 'the', 'and', 'but', 'if', 'or', 'because', 'as', 'until', 'while', 'of', 'at', 'by', 'for', 'with', 'about', 'against', 'between', 'into', 'through', 'during', 'before', 'after', 'above', 'below', 'to', 'from', 'up', 'down', 'in', 'out', 'on', 'off', 'over', 'under', 'again', 'further', 'then', 'once', 'here', 'there', 'when', 'where', 'why', 'how', 'all', 'any', 'both', 'each', 'few', 'more', 'most', 'other', 'some', 'such', 'no', 'nor', 'not', 'only', 'own', 'same', 'so', 'than', 'too', 'very', 's', 't', 'can', 'will', 'just', 'don', \"don't\", 'should', \"should've\", 'now', 'd', 'll', 'm', 'o', 're', 've', 'y', 'ain', 'aren', \"aren't\", 'couldn', \"couldn't\", 'didn', \"didn't\", 'doesn', \"doesn't\", 'hadn', \"hadn't\", 'hasn', \"hasn't\", 'haven', \"haven't\", 'isn', \"isn't\", 'ma', 'mightn', \"mightn't\", 'mustn', \"mustn't\", 'needn', \"needn't\", 'shan', \"shan't\", 'shouldn', \"shouldn't\", 'wasn', \"wasn't\", 'weren', \"weren't\", 'won', \"won't\", 'wouldn', \"wouldn't\"]\n"
     ]
    }
   ],
   "source": [
    "from nltk.corpus import stopwords\n",
    "stop_words = stopwords.words('English')\n",
    "print(stop_words)"
   ]
  },
  {
   "cell_type": "code",
   "execution_count": 8,
   "id": "631ad90e",
   "metadata": {},
   "outputs": [],
   "source": [
    "from nltk.stem.porter import PorterStemmer\n",
    "porter = PorterStemmer()\n",
    "stemmed = [porter.stem(word) for word in words]"
   ]
  },
  {
   "cell_type": "code",
   "execution_count": 9,
   "id": "3f692f4e",
   "metadata": {},
   "outputs": [
    {
     "name": "stdout",
     "output_type": "stream",
     "text": [
      "['is', 'financi', 'report', 'of', 'the', 'share', 'of', 'larg', 'borrow', 'in', 'indian', 'bank', 'total', 'loan', 'portfolio', 'stood', 'at', 'as', 'on', 'march', 'the', 'gross', 'asset', 'npa', 'as', 'a', 'percentag', 'of', 'total', 'loan', 'stood', 'at', 'as', 'on', 'march', 'mumbai', 'indian', 'bank', 'continu', 'to', 'see', 'an', 'improv', 'in', 'asset', 'qualiti', 'with', 'bad', 'loan', 'as', 'a', 'percentag', 'of', 'total', 'loan', 'expect', 'to', 'fall', 'to', 'by', 'march', 'accord', 'to', 'the', 'financi', 'stabil', 'report', 'releas', 'by', 'the', 'reserv', 'bank', 'of', 'india', 'rbi', 'on', 'thursday', 'the', 'gross', 'asset', 'npa', 'as', 'a', 'percentag', 'of', 'total', 'loan', 'stood', 'at', 'as', 'on', 'march', 'accord', 'to', 'the', 'report', 'stress', 'test', 'done', 'on']\n"
     ]
    }
   ],
   "source": [
    "print(stemmed[:100])"
   ]
  },
  {
   "cell_type": "code",
   "execution_count": 10,
   "id": "9d570027",
   "metadata": {},
   "outputs": [],
   "source": [
    "from nltk.stem import WordNetLemmatizer\n",
    "lemmi = WordNetLemmatizer()\n",
    "lemmized = [lemmi.lemmatize(word) for word in words]"
   ]
  },
  {
   "cell_type": "code",
   "execution_count": 11,
   "id": "444d9911",
   "metadata": {},
   "outputs": [
    {
     "name": "stdout",
     "output_type": "stream",
     "text": [
      "['is', 'financial', 'Report', 'of', 'The', 'share', 'of', 'large', 'borrower', 'in', 'Indian', 'bank', 'total', 'loan', 'portfolio', 'stood', 'at', 'a', 'on', 'March', 'The', 'gross', 'asset', 'NPAs', 'a', 'a', 'percentage', 'of', 'total', 'loan', 'stood', 'at', 'a', 'on', 'March', 'Mumbai', 'Indian', 'bank', 'continue', 'to', 'see', 'an', 'improvement', 'in', 'asset', 'quality', 'with', 'bad', 'loan', 'a', 'a', 'percentage', 'of', 'total', 'loan', 'expected', 'to', 'fall', 'to', 'by', 'March', 'according', 'to', 'the', 'Financial', 'Stability', 'Report', 'released', 'by', 'the', 'Reserve', 'Bank', 'of', 'India', 'RBI', 'on', 'Thursday', 'The', 'gross', 'asset', 'NPAs', 'a', 'a', 'percentage', 'of', 'total', 'loan', 'stood', 'at', 'a', 'on', 'March', 'According', 'to', 'the', 'report', 'stress', 'test', 'done', 'on']\n"
     ]
    }
   ],
   "source": [
    "print(lemmized[:100])"
   ]
  },
  {
   "cell_type": "code",
   "execution_count": null,
   "id": "e5ddee99",
   "metadata": {},
   "outputs": [],
   "source": []
  }
 ],
 "metadata": {
  "kernelspec": {
   "display_name": "Python 3 (ipykernel)",
   "language": "python",
   "name": "python3"
  },
  "language_info": {
   "codemirror_mode": {
    "name": "ipython",
    "version": 3
   },
   "file_extension": ".py",
   "mimetype": "text/x-python",
   "name": "python",
   "nbconvert_exporter": "python",
   "pygments_lexer": "ipython3",
   "version": "3.7.13"
  }
 },
 "nbformat": 4,
 "nbformat_minor": 5
}
